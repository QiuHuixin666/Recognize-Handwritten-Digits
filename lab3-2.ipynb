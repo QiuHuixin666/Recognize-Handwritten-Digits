{
 "cells": [
  {
   "cell_type": "code",
   "execution_count": 45,
   "id": "fe253e1f",
   "metadata": {},
   "outputs": [],
   "source": [
    "import tensorflow as tf\n",
    "import matplotlib.pyplot as plt\n",
    "import numpy as np"
   ]
  },
  {
   "cell_type": "code",
   "execution_count": 46,
   "id": "4c3a6b1b",
   "metadata": {},
   "outputs": [
    {
     "name": "stdout",
     "output_type": "stream",
     "text": [
      "GPU False\n"
     ]
    }
   ],
   "source": [
    "print('GPU',tf.test.is_gpu_available())"
   ]
  },
  {
   "cell_type": "code",
   "execution_count": 47,
   "id": "64b72cea",
   "metadata": {},
   "outputs": [],
   "source": [
    "mnist = tf.keras.datasets.mnist\n",
    "\n",
    "(x_train, y_train), (x_test, y_test) = mnist.load_data()\n",
    "x_train, x_test = x_train / 255.0, x_test / 255.0"
   ]
  },
  {
   "cell_type": "code",
   "execution_count": 48,
   "id": "c0e14f0a",
   "metadata": {},
   "outputs": [],
   "source": [
    "model = tf.keras.models.Sequential([\n",
    "  tf.keras.layers.Flatten(input_shape=(28, 28)),\n",
    "  tf.keras.layers.Dense(128, activation='relu'),\n",
    "  tf.keras.layers.Dropout(0.2),\n",
    "  tf.keras.layers.Dense(10)\n",
    "])"
   ]
  },
  {
   "cell_type": "code",
   "execution_count": 49,
   "id": "6025bd58",
   "metadata": {},
   "outputs": [
    {
     "data": {
      "text/plain": [
       "array([[-3.7409008e-02, -8.7402761e-05, -1.4451219e-02, -8.1768349e-02,\n",
       "         8.3212483e-01, -1.7101705e-02,  1.9767372e-01, -8.8239634e-01,\n",
       "        -3.0277431e-02, -2.7830869e-01]], dtype=float32)"
      ]
     },
     "execution_count": 49,
     "metadata": {},
     "output_type": "execute_result"
    }
   ],
   "source": [
    "predictions = model(x_train[:1]).numpy()\n",
    "predictions"
   ]
  },
  {
   "cell_type": "code",
   "execution_count": 50,
   "id": "9a06d69a",
   "metadata": {},
   "outputs": [
    {
     "data": {
      "text/plain": [
       "array([[0.09164368, 0.0951286 , 0.09377196, 0.08766728, 0.21864335,\n",
       "        0.09352374, 0.11593048, 0.03936671, 0.09229959, 0.07202464]],\n",
       "      dtype=float32)"
      ]
     },
     "execution_count": 50,
     "metadata": {},
     "output_type": "execute_result"
    }
   ],
   "source": [
    "tf.nn.softmax(predictions).numpy()"
   ]
  },
  {
   "cell_type": "code",
   "execution_count": 51,
   "id": "c598582f",
   "metadata": {},
   "outputs": [],
   "source": [
    "loss_fn = tf.keras.losses.SparseCategoricalCrossentropy(from_logits=True)"
   ]
  },
  {
   "cell_type": "code",
   "execution_count": 52,
   "id": "30820adf",
   "metadata": {},
   "outputs": [
    {
     "data": {
      "text/plain": [
       "2.36954"
      ]
     },
     "execution_count": 52,
     "metadata": {},
     "output_type": "execute_result"
    }
   ],
   "source": [
    "loss_fn(y_train[:1], predictions).numpy()"
   ]
  },
  {
   "cell_type": "code",
   "execution_count": 53,
   "id": "c4154c3f",
   "metadata": {},
   "outputs": [],
   "source": [
    "model.compile(optimizer='adam',\n",
    "              loss=loss_fn,\n",
    "              metrics=['accuracy'])"
   ]
  },
  {
   "cell_type": "code",
   "execution_count": 54,
   "id": "e6a594a9",
   "metadata": {},
   "outputs": [
    {
     "name": "stdout",
     "output_type": "stream",
     "text": [
      "Epoch 1/5\n",
      "1875/1875 [==============================] - 2s 905us/step - loss: 0.2979 - accuracy: 0.9134\n",
      "Epoch 2/5\n",
      "1875/1875 [==============================] - 2s 861us/step - loss: 0.1452 - accuracy: 0.9574\n",
      "Epoch 3/5\n",
      "1875/1875 [==============================] - 2s 845us/step - loss: 0.1089 - accuracy: 0.9672\n",
      "Epoch 4/5\n",
      "1875/1875 [==============================] - 2s 838us/step - loss: 0.0884 - accuracy: 0.9728\n",
      "Epoch 5/5\n",
      "1875/1875 [==============================] - 2s 849us/step - loss: 0.0751 - accuracy: 0.9760\n"
     ]
    },
    {
     "data": {
      "text/plain": [
       "<keras.callbacks.History at 0x2bfb717d0f0>"
      ]
     },
     "execution_count": 54,
     "metadata": {},
     "output_type": "execute_result"
    }
   ],
   "source": [
    "model.fit(x_train, y_train, epochs=5)"
   ]
  },
  {
   "cell_type": "code",
   "execution_count": 55,
   "id": "57408892",
   "metadata": {},
   "outputs": [
    {
     "name": "stdout",
     "output_type": "stream",
     "text": [
      "313/313 - 0s - loss: 0.0779 - accuracy: 0.9775 - 282ms/epoch - 900us/step\n"
     ]
    },
    {
     "data": {
      "text/plain": [
       "[0.07791567593812943, 0.9775000214576721]"
      ]
     },
     "execution_count": 55,
     "metadata": {},
     "output_type": "execute_result"
    }
   ],
   "source": [
    "model.evaluate(x_test,  y_test, verbose=2)"
   ]
  },
  {
   "cell_type": "code",
   "execution_count": 56,
   "id": "a0a4be5b",
   "metadata": {},
   "outputs": [],
   "source": [
    "probability_model = tf.keras.Sequential([\n",
    "  model,\n",
    "  tf.keras.layers.Softmax()\n",
    "])"
   ]
  },
  {
   "cell_type": "code",
   "execution_count": 57,
   "id": "df8034ae",
   "metadata": {},
   "outputs": [
    {
     "data": {
      "text/plain": [
       "<tf.Tensor: shape=(5, 10), dtype=float32, numpy=\n",
       "array([[2.5736773e-08, 1.3040542e-09, 6.4609571e-06, 5.2803727e-05,\n",
       "        1.5268904e-12, 7.7921449e-08, 3.1444065e-14, 9.9993765e-01,\n",
       "        2.8213744e-08, 2.8980407e-06],\n",
       "       [9.1543023e-10, 3.1893454e-05, 9.9996710e-01, 4.6598095e-07,\n",
       "        8.5753875e-16, 1.2435316e-07, 2.7538721e-07, 2.3392953e-14,\n",
       "        1.2658748e-07, 1.4321332e-18],\n",
       "       [3.2773721e-06, 9.9829513e-01, 2.3143351e-04, 6.3079206e-06,\n",
       "        1.4031102e-04, 2.5348788e-06, 1.0753650e-04, 1.0869966e-03,\n",
       "        1.2546060e-04, 1.0998612e-06],\n",
       "       [9.9942893e-01, 3.8779877e-09, 4.7315148e-04, 7.8874592e-08,\n",
       "        4.9984973e-08, 2.4418650e-06, 8.2272185e-05, 1.1600572e-05,\n",
       "        3.1269221e-09, 1.3806080e-06],\n",
       "       [5.4656287e-08, 1.3335336e-09, 1.0101945e-06, 2.9481073e-09,\n",
       "        9.9373192e-01, 2.8577361e-07, 1.9946846e-07, 9.3027898e-05,\n",
       "        8.2331141e-08, 6.1734822e-03]], dtype=float32)>"
      ]
     },
     "execution_count": 57,
     "metadata": {},
     "output_type": "execute_result"
    }
   ],
   "source": [
    "probability_model(x_test[:5])"
   ]
  },
  {
   "cell_type": "code",
   "execution_count": 58,
   "id": "c1d2d942",
   "metadata": {},
   "outputs": [
    {
     "data": {
      "image/png": "[encoded data removed]",
      "text/plain": [
       "<Figure size 640x480 with 1 Axes>"
      ]
     },
     "metadata": {},
     "output_type": "display_data"
    },
    {
     "name": "stdout",
     "output_type": "stream",
     "text": [
      "1/1 [==============================] - 0s 28ms/step\n",
      "3\n"
     ]
    }
   ],
   "source": [
    "    def decode_predictions(a):\n",
    "        return np.argmax(a)\n",
    "    raw = tf.io.read_file(\"3.PNG\")\n",
    "    tensor = tf.io.decode_image(raw, channels=1, dtype=tf.dtypes.float32)\n",
    "    tensor = tf.image.resize(tensor, [28, 28])\n",
    "    \n",
    "    d = [[[] for i in range(28)] for j in range (28)]\n",
    "    for i in range(28):\n",
    "        for j in range(28):\n",
    "            d[i][j].append(1-tensor[i][j][0])\n",
    "            \n",
    "            \n",
    "    d = np.array(d)\n",
    "    #print(tensor.shape)\n",
    "    inputs_tensor = tf.expand_dims(d, axis=0)\n",
    "    #print(inputs_tensor.shape)\n",
    "    plt.imshow(d)\n",
    "    plt.show()\n",
    "    preds = model.predict(inputs_tensor)\n",
    "    print(decode_predictions(preds))"
   ]
  },
  {
   "cell_type": "code",
   "execution_count": 59,
   "id": "24321355",
   "metadata": {},
   "outputs": [
    {
     "name": "stdout",
     "output_type": "stream",
     "text": [
      "(1, 28, 28, 1)\n"
     ]
    },
    {
     "data": {
      "image/png": "[encoded data removed]",
      "text/plain": [
       "<Figure size 640x480 with 1 Axes>"
      ]
     },
     "metadata": {},
     "output_type": "display_data"
    },
    {
     "name": "stdout",
     "output_type": "stream",
     "text": [
      "1/1 [==============================] - 0s 13ms/step\n",
      "2\n"
     ]
    }
   ],
   "source": [
    "    def decode_predictions(a):\n",
    "        return np.argmax(a)\n",
    "    raw = tf.io.read_file(\"2.PNG\")\n",
    "    tensor = tf.io.decode_image(raw, channels=1, dtype=tf.dtypes.float32)\n",
    "    tensor = tf.image.resize(tensor, [28, 28])\n",
    "    \n",
    "    d = [[[] for i in range(28)] for j in range (28)]\n",
    "    for i in range(28):\n",
    "        for j in range(28):\n",
    "            d[i][j].append(1-tensor[i][j][0])\n",
    "            \n",
    "            \n",
    "    d = np.array(d)\n",
    "    #print(tensor.shape)\n",
    "    inputs_tensor = tf.expand_dims(d, axis=0)\n",
    "    print(inputs_tensor.shape)\n",
    "    plt.imshow(d)\n",
    "    plt.show()\n",
    "    preds = model.predict(inputs_tensor)\n",
    "    print(decode_predictions(preds))"
   ]
  },
  {
   "cell_type": "code",
   "execution_count": 41,
   "id": "e803920c",
   "metadata": {},
   "outputs": [
    {
     "data": {
      "image/png": "[encoded data removed]",
      "text/plain": [
       "<Figure size 640x480 with 1 Axes>"
      ]
     },
     "metadata": {},
     "output_type": "display_data"
    },
    {
     "name": "stdout",
     "output_type": "stream",
     "text": [
      "1/1 [==============================] - 0s 12ms/step\n",
      "4\n"
     ]
    }
   ],
   "source": [
    "    def decode_predictions(a):\n",
    "        return np.argmax(a)\n",
    "    raw = tf.io.read_file(\"4.PNG\")\n",
    "    tensor = tf.io.decode_image(raw, channels=1, dtype=tf.dtypes.float32)\n",
    "    tensor = tf.image.resize(tensor, [28, 28])\n",
    "    \n",
    "    d = [[[] for i in range(28)] for j in range (28)]\n",
    "    for i in range(28):\n",
    "        for j in range(28):\n",
    "            d[i][j].append(1-tensor[i][j][0])\n",
    "            \n",
    "            \n",
    "    d = np.array(d)\n",
    "    #print(tensor.shape)\n",
    "    inputs_tensor = tf.expand_dims(d, axis=0)\n",
    "    #print(inputs_tensor.shape)\n",
    "    plt.imshow(d)\n",
    "    plt.show()\n",
    "    preds = model.predict(inputs_tensor)\n",
    "    print(decode_predictions(preds))"
   ]
  },
  {
   "cell_type": "code",
   "execution_count": 43,
   "id": "6ddaad60",
   "metadata": {},
   "outputs": [
    {
     "data": {
      "image/png": "[encoded data removed]",
      "text/plain": [
       "<Figure size 640x480 with 1 Axes>"
      ]
     },
     "metadata": {},
     "output_type": "display_data"
    },
    {
     "name": "stdout",
     "output_type": "stream",
     "text": [
      "1/1 [==============================] - 0s 13ms/step\n",
      "5\n"
     ]
    }
   ],
   "source": [
    "    def decode_predictions(a):\n",
    "        return np.argmax(a)\n",
    "    raw = tf.io.read_file(\"5.PNG\")\n",
    "    tensor = tf.io.decode_image(raw, channels=1, dtype=tf.dtypes.float32)\n",
    "    tensor = tf.image.resize(tensor, [28, 28])\n",
    "    \n",
    "    d = [[[] for i in range(28)] for j in range (28)]\n",
    "    for i in range(28):\n",
    "        for j in range(28):\n",
    "            d[i][j].append(1-tensor[i][j][0])\n",
    "            \n",
    "            \n",
    "    d = np.array(d)\n",
    "    #print(tensor.shape)\n",
    "    inputs_tensor = tf.expand_dims(d, axis=0)\n",
    "    #print(inputs_tensor.shape)\n",
    "    plt.imshow(d)\n",
    "    plt.show()\n",
    "    preds = model.predict(inputs_tensor)\n",
    "    print(decode_predictions(preds))"
   ]
  },
  {
   "cell_type": "code",
   "execution_count": null,
   "id": "c96f089d",
   "metadata": {},
   "outputs": [],
   "source": []
  }
 ],
 "metadata": {
  "kernelspec": {
   "display_name": "Python 3 (ipykernel)",
   "language": "python",
   "name": "python3"
  },
  "language_info": {
   "codemirror_mode": {
    "name": "ipython",
    "version": 3
   },
   "file_extension": ".py",
   "mimetype": "text/x-python",
   "name": "python",
   "nbconvert_exporter": "python",
   "pygments_lexer": "ipython3",
   "version": "3.10.12"
  }
 },
 "nbformat": 4,
 "nbformat_minor": 5
}
